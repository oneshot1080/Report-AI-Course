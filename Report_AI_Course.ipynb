{
  "cells": [
    {
      "cell_type": "code",
      "execution_count": 2,
      "metadata": {
        "id": "nl592gRDuVR4"
      },
      "outputs": [],
      "source": [
        "import pandas as pd\n",
        "import seaborn as sns\n",
        "import matplotlib.pyplot as plt\n",
        "import numpy as np\n"
      ]
    },
    {
      "cell_type": "code",
      "execution_count": 3,
      "metadata": {
        "colab": {
          "base_uri": "https://localhost:8080/",
          "height": 304
        },
        "id": "4oIqde8XlwY0",
        "outputId": "2d1b0369-1506-46eb-d051-365942a7e8bd"
      },
      "outputs": [],
      "source": [
        "df = pd.read_csv('heart_attack_prediction_dataset.csv')"
      ]
    },
    {
      "cell_type": "code",
      "execution_count": null,
      "metadata": {
        "id": "2nIs04QHl58d"
      },
      "outputs": [],
      "source": [
        "df = df.drop('Patient ID', axis=1)"
      ]
    },
    {
      "cell_type": "code",
      "execution_count": null,
      "metadata": {
        "id": "gSWI1SEmmpIY"
      },
      "outputs": [],
      "source": [
        "df.head()"
      ]
    },
    {
      "cell_type": "code",
      "execution_count": null,
      "metadata": {
        "id": "LmOJ9lvymClL"
      },
      "outputs": [],
      "source": [
        "df.info()"
      ]
    },
    {
      "cell_type": "code",
      "execution_count": null,
      "metadata": {
        "id": "cd38c1E6mzhY"
      },
      "outputs": [],
      "source": [
        "df.describe()"
      ]
    },
    {
      "cell_type": "code",
      "execution_count": null,
      "metadata": {
        "id": "VIDINovFqGlv"
      },
      "outputs": [],
      "source": [
        "df.duplicated().sum()"
      ]
    },
    {
      "cell_type": "code",
      "execution_count": null,
      "metadata": {
        "id": "b3H9kIF6rlZr"
      },
      "outputs": [],
      "source": [
        "df.isna().sum()"
      ]
    },
    {
      "cell_type": "code",
      "execution_count": null,
      "metadata": {
        "id": "zG-m5xJ2rr0V"
      },
      "outputs": [],
      "source": [
        "df['Sex'].value_counts()"
      ]
    },
    {
      "cell_type": "code",
      "execution_count": null,
      "metadata": {
        "id": "xrs9oWoAsHph"
      },
      "outputs": [],
      "source": [
        "df['Continent'].value_counts()"
      ]
    },
    {
      "cell_type": "code",
      "execution_count": null,
      "metadata": {
        "id": "7woCYj-bsLOV"
      },
      "outputs": [],
      "source": [
        "df['Smoking'].value_counts()"
      ]
    },
    {
      "cell_type": "code",
      "execution_count": null,
      "metadata": {
        "id": "-g1Ek04esRFc"
      },
      "outputs": [],
      "source": [
        "df['Heart Attack Risk'].value_counts()"
      ]
    },
    {
      "cell_type": "code",
      "execution_count": null,
      "metadata": {
        "id": "qvikfah-IUcy"
      },
      "outputs": [],
      "source": [
        "df['Blood Pressure']"
      ]
    },
    {
      "cell_type": "code",
      "execution_count": null,
      "metadata": {
        "id": "F8F82TFD7ew0"
      },
      "outputs": [],
      "source": [
        "df[['Max Blood Pressure', 'Min Blood Pressure']] = df['Blood Pressure'].str.split('/', expand=True)\n",
        "df['Max Blood Pressure'] = df['Max Blood Pressure'].astype('int32')\n",
        "df['Min Blood Pressure'] = df['Min Blood Pressure'].astype('int32')\n",
        "df.drop('Blood Pressure', axis=1, inplace=True)"
      ]
    },
    {
      "cell_type": "code",
      "execution_count": null,
      "metadata": {
        "id": "WRI_C3PSsY04"
      },
      "outputs": [],
      "source": [
        "numerical_columns = df.select_dtypes(include=np.number).columns.drop('Heart Attack Risk')\n",
        "nonbinary_columns = [x for x in numerical_columns if df[x].nunique() != 2]\n",
        "binary_columns = [x for x in numerical_columns if df[x].nunique() == 2]\n",
        "categorical_columns = df.select_dtypes(exclude=np.number).columns\n",
        "print(numerical_columns)\n",
        "print(nonbinary_columns)\n",
        "print(binary_columns)\n",
        "print(categorical_columns)"
      ]
    },
    {
      "cell_type": "code",
      "execution_count": null,
      "metadata": {
        "id": "fzVHDMRkt_L7"
      },
      "outputs": [],
      "source": [
        "df_risk = df[df['Heart Attack Risk'] == 1]"
      ]
    },
    {
      "cell_type": "code",
      "execution_count": null,
      "metadata": {
        "id": "kIBITkHAuPK2"
      },
      "outputs": [],
      "source": [
        "df[numerical_columns].groupby(df['Heart Attack Risk']).mean().transpose()"
      ]
    },
    {
      "cell_type": "code",
      "execution_count": null,
      "metadata": {
        "id": "rRKnn3_Fupav"
      },
      "outputs": [],
      "source": [
        "plt.figure(figsize=(20, 15))\n",
        "for i, col in enumerate(nonbinary_columns, 1):\n",
        "  plt.subplot(8, 2, i)\n",
        "  sns.histplot(df_risk[col], kde=True)\n",
        "  plt.tight_layout()\n",
        "plt.show()"
      ]
    },
    {
      "cell_type": "code",
      "execution_count": null,
      "metadata": {
        "id": "zIwT2wh5zyoC"
      },
      "outputs": [],
      "source": [
        "plt.figure(figsize=(20, 15))\n",
        "for i, col in enumerate(categorical_columns, 1):\n",
        "  plt.subplot(3, 2, i)\n",
        "  sns.countplot(df, x=col, hue='Heart Attack Risk')\n",
        "  plt.xticks(rotation=45)\n",
        "  plt.tight_layout()\n",
        "plt.show()"
      ]
    },
    {
      "cell_type": "code",
      "execution_count": null,
      "metadata": {
        "id": "4k1ZlbYgEPPA"
      },
      "outputs": [],
      "source": [
        "plt.figure(figsize=(20, 15))\n",
        "for i, col in enumerate(categorical_columns, 1):\n",
        "  plt.subplot(3, 2, i)\n",
        "  plt.bar(df_risk[col].value_counts().index, df_risk[col].value_counts()/8763*100)\n",
        "  plt.xticks(rotation=45)\n",
        "  plt.tight_layout()\n",
        "plt.show()"
      ]
    },
    {
      "cell_type": "code",
      "execution_count": null,
      "metadata": {
        "id": "IKfoO5Ie1uSA"
      },
      "outputs": [],
      "source": [
        "plt.figure(figsize=(20, 15))\n",
        "for i, col in enumerate(binary_columns, 1):\n",
        "  plt.subplot(4, 2, i)\n",
        "  plt.pie(df[col].value_counts(), labels=['Yes', 'No'], autopct='%1.1f%%')\n",
        "  plt.title(f\"{col}\")\n",
        "  plt.tight_layout()\n",
        "plt.show()"
      ]
    },
    {
      "cell_type": "code",
      "execution_count": null,
      "metadata": {
        "id": "FH7MPjeu8d3v"
      },
      "outputs": [],
      "source": [
        "df['Diet'] = df['Diet'].map({'Average':0, 'Unhealthy':1, 'Healthy':2}).astype('int32')"
      ]
    },
    {
      "cell_type": "code",
      "execution_count": null,
      "metadata": {
        "id": "r4pcIj3N9bfD"
      },
      "outputs": [],
      "source": [
        "df = pd.get_dummies(df, columns=categorical_columns.drop('Diet'))"
      ]
    },
    {
      "cell_type": "code",
      "execution_count": null,
      "metadata": {
        "id": "UJx04K-P9nIw"
      },
      "outputs": [],
      "source": [
        "bool_columns = df.select_dtypes(include='bool').columns\n",
        "df[bool_columns] = df[bool_columns].astype('int32')"
      ]
    },
    {
      "cell_type": "code",
      "execution_count": null,
      "metadata": {
        "id": "w6i1-rDBAR28"
      },
      "outputs": [],
      "source": [
        "(np.std(df[nonbinary_columns], axis=0)/df[nonbinary_columns].mean()).sort_values(ascending=False)"
      ]
    },
    {
      "cell_type": "code",
      "execution_count": null,
      "metadata": {
        "id": "b-4sNIapLBiT"
      },
      "outputs": [],
      "source": [
        "df['Active Hours'] = 24 - df['Sedentary Hours Per Day']"
      ]
    },
    {
      "cell_type": "code",
      "execution_count": null,
      "metadata": {
        "id": "A2-vVqL4L1qa"
      },
      "outputs": [],
      "source": [
        "cols_to_scale = df[nonbinary_columns].columns\n",
        "x = df.drop('Heart Attack Risk', axis=1)\n",
        "y = df['Heart Attack Risk']"
      ]
    },
    {
      "cell_type": "code",
      "execution_count": null,
      "metadata": {
        "id": "lPOsh9aUzVZ_"
      },
      "outputs": [],
      "source": [
        "df['Heart Attack Risk'].value_counts()"
      ]
    },
    {
      "cell_type": "code",
      "execution_count": null,
      "metadata": {
        "id": "nNUa2qH0j69n"
      },
      "outputs": [],
      "source": [
        "from imblearn.over_sampling import SMOTE\n",
        "\n",
        "smote = SMOTE(random_state = 42)\n",
        "\n",
        "X_smote, y_smote = smote.fit_resample(x, y)"
      ]
    },
    {
      "cell_type": "code",
      "execution_count": null,
      "metadata": {
        "id": "GeMRcJZ8pEa4"
      },
      "outputs": [],
      "source": [
        "from sklearn.model_selection import train_test_split\n",
        "\n",
        "X_train, X_test, y_train, y_test = train_test_split(X_smote, y_smote, test_size=0.2)"
      ]
    },
    {
      "cell_type": "code",
      "execution_count": null,
      "metadata": {
        "id": "RUq9RzFCpQg0"
      },
      "outputs": [],
      "source": [
        "from sklearn.preprocessing import RobustScaler\n",
        "\n",
        "scaler = RobustScaler()\n",
        "\n",
        "scaler.fit(X_train[cols_to_scale])\n",
        "\n",
        "X_train[cols_to_scale] = scaler.transform(X_train[cols_to_scale])\n",
        "\n",
        "X_test[cols_to_scale] = scaler.transform(X_test[cols_to_scale])"
      ]
    },
    {
      "cell_type": "code",
      "execution_count": null,
      "metadata": {
        "id": "Km2WmdLSpetY"
      },
      "outputs": [],
      "source": [
        "\n",
        "from sklearn.linear_model import LogisticRegression\n",
        "from sklearn.ensemble import RandomForestClassifier\n",
        "from sklearn.neighbors import KNeighborsClassifier\n",
        "from sklearn.tree import DecisionTreeClassifier\n",
        "from sklearn.naive_bayes import GaussianNB"
      ]
    },
    {
      "cell_type": "code",
      "execution_count": null,
      "metadata": {
        "id": "lYTX6WEyP72K"
      },
      "outputs": [],
      "source": [
        "lr = LogisticRegression(max_iter=1000)\n",
        "rf = RandomForestClassifier()\n",
        "knn = KNeighborsClassifier()\n",
        "dt = DecisionTreeClassifier()\n",
        "nb = GaussianNB()\n",
        "\n",
        "lr.fit(X_train, y_train)\n",
        "rf.fit(X_train, y_train)\n",
        "knn.fit(X_train, y_train)\n",
        "dt.fit(X_train, y_train)\n",
        "nb.fit(X_train, y_train)\n",
        "\n"
      ]
    },
    {
      "cell_type": "code",
      "execution_count": null,
      "metadata": {
        "id": "EpoCxhoKQ3pK"
      },
      "outputs": [],
      "source": [
        "from sklearn.metrics import f1_score, accuracy_score, precision_score, recall_score\n",
        "model_evaluation = {}\n",
        "models = [lr, dt, rf, nb, knn]\n",
        "model_results = {}\n",
        "\n",
        "# Make Predictions\n",
        "for model in models:\n",
        "    model_results[str(model).split(\"(\")[0]] = [model.predict(X_test)]\n",
        "for model, preds in model_results.items():\n",
        "    model_evaluation[model] = [\n",
        "                            round(accuracy_score(y_test, pd.DataFrame(preds).T) * 100, 2),\n",
        "                            round(f1_score(y_test, pd.DataFrame(preds).T) * 100, 2),\n",
        "                            round(precision_score(y_test, pd.DataFrame(preds).T) * 100, 2),\n",
        "                            round(recall_score(y_test, pd.DataFrame(preds).T) * 100, 2),\n",
        "    ]\n",
        "results_df = pd.DataFrame(model_evaluation, index=[\"Accuracy\", \"F-1 Score\", \"Precision Score\", \"Recall Score\"])\n",
        "results_df.style.background_gradient(axis=None, cmap='pink')"
      ]
    }
  ],
  "metadata": {
    "colab": {
      "provenance": []
    },
    "kernelspec": {
      "display_name": "Python 3",
      "name": "python3"
    },
    "language_info": {
      "codemirror_mode": {
        "name": "ipython",
        "version": 3
      },
      "file_extension": ".py",
      "mimetype": "text/x-python",
      "name": "python",
      "nbconvert_exporter": "python",
      "pygments_lexer": "ipython3",
      "version": "3.12.4"
    }
  },
  "nbformat": 4,
  "nbformat_minor": 0
}
